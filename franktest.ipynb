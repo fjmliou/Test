{
 "metadata": {
  "name": "",
  "signature": "sha256:4ca593757682bcd9932e1032aa07223e8940293281551b1da513708b494ba1fb"
 },
 "nbformat": 3,
 "nbformat_minor": 0,
 "worksheets": [
  {
   "cells": [
    {
     "cell_type": "markdown",
     "metadata": {},
     "source": [
      "\u9ece\u66fc\u9762"
     ]
    },
    {
     "cell_type": "markdown",
     "metadata": {},
     "source": [
      "$f:X\\to Y$\u662f\u4e00\u500b\u5168\u7d14\u6620\u5c04"
     ]
    },
    {
     "cell_type": "markdown",
     "metadata": {},
     "source": [
      "\u5047\u8a2d$\\{a_{n}\\}$\u662f$X$\u4e2d\u7684\u67ef\u897f\u5217\uff0c\u5229\u7528\u5b8c\u5099\u6027\uff0c\u6211\u5011\u53ef\u4ee5\u5f97\u5230$\\{a_{n}\\}$\u6536\u6582"
     ]
    },
    {
     "cell_type": "code",
     "collapsed": false,
     "input": [],
     "language": "python",
     "metadata": {},
     "outputs": []
    }
   ],
   "metadata": {}
  }
 ]
}